{
 "cells": [
  {
   "cell_type": "markdown",
   "id": "1366c4ab",
   "metadata": {},
   "source": [
    "### 1.Develop a python program for finding the absolute value of a given number. This is always measured as positive number. This number is the distance of given number from the 0(Zero). The input value may be integer, float or complex number in Python. The absolute value of given number may be integer or float.\n"
   ]
  },
  {
   "cell_type": "code",
   "execution_count": null,
   "id": "41722b59",
   "metadata": {},
   "outputs": [
    {
     "name": "stdout",
     "output_type": "stream",
     "text": [
      "The absolute value of (-3+4j) is 5.0\n"
     ]
    }
   ],
   "source": [
    "try:\n",
    "    input_value = input(\"Enter a number (integer, float, or complex like 3+4j): \")\n",
    "    if 'j' in input_value:\n",
    "        number = complex(input_value)\n",
    "    elif '.' in input_value:\n",
    "        number = float(input_value)\n",
    "    else:\n",
    "        number = int(input_value)\n",
    "    print(f\"The absolute value of {number} is {abs(number)}\")\n",
    "\n",
    "except ValueError:\n",
    "    print(\"Invalid input! Please enter a valid integer, float, or complex number.\")\n"
   ]
  },
  {
   "cell_type": "markdown",
   "id": "7f7c0950",
   "metadata": {},
   "source": [
    "### 2. Calculate the Total selling price after levying the GST (Goods and Service Tax) as CGST and SGST on sale. CGST (Central Govt. GST), SGST (State Govt. GST) .\n",
    "        Sale amount \t\tCGST Rate \t\tSGST Rate\n",
    "         0-50000\t\t5%\t\t\t5%\n",
    "         Above 50000\t\t18%\t\t\t18%\n"
   ]
  },
  {
   "cell_type": "code",
   "execution_count": null,
   "id": "61154a0d",
   "metadata": {},
   "outputs": [
    {
     "name": "stdout",
     "output_type": "stream",
     "text": [
      "---------------\n",
      "AMOUNT       : 75000.0\n",
      "CGST 18% : 13500.0\n",
      "SGST 18% : 13500.0\n",
      "TOTAL BILL   : 102000.0\n"
     ]
    }
   ],
   "source": [
    "amount = float(input(\"Enter the total selling amount : \"))\n",
    "if amount <= 0 : \n",
    "    print(\"amount cannot be negative\")\n",
    "elif amount <= 50000 :\n",
    "    cgst = 5\n",
    "    sgst = 5\n",
    "else :\n",
    "    cgst = 18\n",
    "    sgst = 18\n",
    "total = amount + (amount*(cgst/100)) + (amount*(sgst/100))\n",
    "print(\"---------------\")\n",
    "print(f\"AMOUNT       : ₹{amount}\")\n",
    "print(f\"CGST {cgst}% : ₹{round(amount*(cgst/100),2)}\")\n",
    "print(f\"SGST {sgst}% : ₹{round(amount*(sgst/100),2)}\")\n",
    "print(f\"TOTAL BILL   : ₹{round(total,2)}\")\n"
   ]
  },
  {
   "cell_type": "markdown",
   "id": "344e3a60",
   "metadata": {},
   "source": [
    "### 3.Write a Python program to construct the following pattern, using a nested for loop.\n",
    "######    *\n",
    "######    * *\n",
    "######    * * *\n",
    "######    * * * *\n",
    "######    * * * * *\n",
    "######    * * * *\n",
    "######    * * *\n",
    "######    * *\n",
    "######    *\n"
   ]
  },
  {
   "cell_type": "code",
   "execution_count": 1,
   "id": "74c49ac9",
   "metadata": {},
   "outputs": [
    {
     "name": "stdout",
     "output_type": "stream",
     "text": [
      "\n",
      "\n",
      "* \n",
      "\n",
      "* * \n",
      "\n",
      "* * * \n",
      "\n",
      "* * * * \n",
      "\n",
      "* * * * * \n",
      "\n",
      "* * * * \n",
      "\n",
      "* * * \n",
      "\n",
      "* * \n",
      "\n",
      "* \n",
      "\n"
     ]
    }
   ],
   "source": [
    "n = int(input(\"enter range : \"))\n",
    "for i in range(1,n+1):\n",
    "    for j in range(1,i):\n",
    "        print(\"*\",end=\" \")\n",
    "    print(\"\\n\")\n",
    "for i in range(n,0,-1):\n",
    "    for j in range(i,0,-1):\n",
    "        print(\"*\",end=\" \")\n",
    "    print(\"\\n\")"
   ]
  },
  {
   "cell_type": "markdown",
   "id": "5c1ed634",
   "metadata": {},
   "source": [
    "### 4.Write a Python program to guess a number between 1 and 9.\n",
    "##### Note: The User is prompted to enter a guess. If the user guesses wrong, then the prompt appears again until the guess is correct. On a successful guess, the user will get a \"Well guessed!\" message, and the program will exit.\n"
   ]
  },
  {
   "cell_type": "code",
   "execution_count": 3,
   "id": "8c480f89",
   "metadata": {},
   "outputs": [
    {
     "name": "stdout",
     "output_type": "stream",
     "text": [
      "Congratulations \n",
      "Well guessed! \n"
     ]
    }
   ],
   "source": [
    "import random \n",
    "n = random.randint(1,9)\n",
    "guess = int(input(\"Guess an number : \"))\n",
    "while guess!=n:\n",
    "    guess = int(input(\"Guess an number : \"))\n",
    "print(\"Congratulations \\nWell guessed! \")"
   ]
  },
  {
   "cell_type": "markdown",
   "id": "6cc7f2f9",
   "metadata": {},
   "source": [
    "### 5.You have two streaming subscriptions and want to find out how much you spend each month and how much you could save if you switch to paying annually. Each subscription has a monthly cost and offers a discounted annual rate.\n",
    "#### Write a Python program to calculate the total monthly cost for both subscriptions, the total annual cost if you continue paying monthly, and compare this with the yearly rates you would pay if you switch to annual payments. Finally, choose the yearly payment option to see how much you could save.\n",
    "######       Test Case:\n",
    "###### Input:\n",
    "###### Service 1 = $10/month\n",
    "###### Service 2 = $12/month\n",
    "###### Annual Discount for Service 1 = $100\n",
    "###### Annual Discount for Service 2 = $120\n",
    "###### Expected Output:\n",
    "###### Monthly Total: $22.00\n",
    "###### Total Annual Cost without Discount: $264.00\n",
    "###### Total Annual Discounted Cost: $220.00\n",
    "###### Total Savings: $44.00\n"
   ]
  },
  {
   "cell_type": "code",
   "execution_count": 5,
   "id": "edb14c88",
   "metadata": {},
   "outputs": [
    {
     "name": "stdout",
     "output_type": "stream",
     "text": [
      "SERVICE 1 = ₹10/month \n",
      "SERVICE 2 = ₹12/month \n",
      "ANNUAL DISCOUNT FOR SERVICE 1 = ₹100 \n",
      "ANNUAL DISCOUNT FOR SERVICE 2 = ₹120 \n",
      "MONTHLY TOTAL = ₹22 \n",
      "TOTAL ANNUAL COST WITHOUT DISCOUNT = ₹264 \n",
      "TOTAL ANNUAL DISCOUNTED COSt = ₹220 \n",
      "TOTAL SAVINGS = ₹44 \n",
      "\n"
     ]
    }
   ],
   "source": [
    "service1 = int(input(\"Enter cost of subscription for service 1 : \"))\n",
    "service2 = int(input(\"Enter cost of subscription for service 2 : \"))\n",
    "discount1 = int(input(\"Enter Annual Discount for service 1 : \"))\n",
    "discount2 = int(input(\"Enter Annual Discount for service 2 : \"))\n",
    "month_total = service1+service2\n",
    "annual_total = month_total*12\n",
    "annual_discount = discount1+discount2\n",
    "savings = annual_total-annual_discount\n",
    "print(F\"SERVICE 1 = ₹{service1}/month \\nSERVICE 2 = ₹{service2}/month \\nANNUAL DISCOUNT FOR SERVICE 1 = ₹{discount1} \\nANNUAL DISCOUNT FOR SERVICE 2 = ₹{discount2} \\nMONTHLY TOTAL = ₹{month_total} \\nTOTAL ANNUAL COST WITHOUT DISCOUNT = ₹{annual_total} \\nTOTAL ANNUAL DISCOUNTED COSt = ₹{annual_discount} \\nTOTAL SAVINGS = ₹{savings} \\n\")"
   ]
  },
  {
   "cell_type": "markdown",
   "id": "c5efca41",
   "metadata": {},
   "source": [
    "### 6.Write a Python program that iterates through integers from 1 to 50. For each multiple of three, print \"Fizz\" instead of the number; for each multiple of five, print \"Buzz\". For numbers that are multiples of both three and five, print \"FizzBuzz\".\n"
   ]
  },
  {
   "cell_type": "code",
   "execution_count": 6,
   "id": "3c8e07d0",
   "metadata": {},
   "outputs": [
    {
     "name": "stdout",
     "output_type": "stream",
     "text": [
      "[1, 2, 'Fizz', 4, 'Buzz', 'Fizz', 7, 8, 'Fizz', 'Buzz', 11, 'Fizz', 13, 14, 'Fizz', 16, 17, 'Fizz', 19, 'Buzz', 'Fizz', 22, 23, 'Fizz', 'Buzz', 26, 'Fizz', 28, 29, 'Fizz', 31, 32, 'Fizz', 34, 'Buzz', 'Fizz', 37, 38, 'Fizz', 'Buzz', 41, 'Fizz', 43, 44, 'Fizz', 46, 47, 'Fizz', 49, 'Buzz']\n"
     ]
    }
   ],
   "source": [
    "values = []\n",
    "for i in range(1,51):\n",
    "    if i%3==0:\n",
    "        values.append(\"Fizz\")\n",
    "    elif i%5==0 :\n",
    "        values.append(\"Buzz\")\n",
    "    elif i%15==0 :\n",
    "        values.append(\"FizzBuzz\")\n",
    "    else :\n",
    "        values.append(i)\n",
    "print(values)"
   ]
  },
  {
   "cell_type": "markdown",
   "id": "0feeb274",
   "metadata": {},
   "source": [
    "### 7.Write a Python program that takes two digits, m (row) and n (column) as input and generates a two-dimensional array. The element value in the i-th row and j-th column of the array should be i*j.\n",
    "Note : i = 0,1.., m-1, j = 0,1, n-1.\n",
    "Test Data : Rows = 3, Columns = 4\n",
    "Expected Result : [[0, 0, 0, 0], [0, 1, 2, 3], [0, 2, 4, 6]]\n"
   ]
  },
  {
   "cell_type": "code",
   "execution_count": null,
   "id": "db44e0e6",
   "metadata": {},
   "outputs": [
    {
     "name": "stdout",
     "output_type": "stream",
     "text": [
      "[[0, 0, 0, 0], [0, 1, 2, 3], [0, 2, 4, 6]]\n"
     ]
    }
   ],
   "source": [
    "row = []\n",
    "i = int(input(\"Enter the no of rows : \"))\n",
    "j = int(input(\"Enter the no of columns : \"))\n",
    "for x in range(0,i):\n",
    "    column = []\n",
    "    for y in range(0,j):\n",
    "        column.append(x*y)\n",
    "    row.append(column)\n",
    "    \n",
    "print(row)\n",
    "\n"
   ]
  },
  {
   "cell_type": "markdown",
   "id": "45a32586",
   "metadata": {},
   "source": [
    "### 8.Write  a Python program for Grade Classification\n",
    "Scenario: A school system classifies grades as follows:\n",
    "A (90 and above)\n",
    "B (70 to 89)\n",
    "C (50 to 69)\n",
    "D (below 50)\n",
    "Question:  What grade will be assigned to a student who scores 85?\n",
    "If the score is 92, what grade will the program output\n"
   ]
  },
  {
   "cell_type": "code",
   "execution_count": 14,
   "id": "cd174843",
   "metadata": {},
   "outputs": [
    {
     "name": "stdout",
     "output_type": "stream",
     "text": [
      "\n",
      "NAME : DEVA\n",
      "SCORE  : 91\n",
      "GRADE  : A\n",
      "-----------------\n"
     ]
    }
   ],
   "source": [
    "name = input(\"Enter the name of the student : \")\n",
    "score = int(input(f\"Enter the score of {name} : \"))\n",
    "if score >= 90 :\n",
    "    grade = 'A'\n",
    "elif score >= 70:\n",
    "    grade = 'B'\n",
    "elif score >= 50:\n",
    "    grade = 'C'\n",
    "elif score < 50 :\n",
    "    grade = 'D'\n",
    "else :\n",
    "    print(\"Enter an valid mark ! \") \n",
    "print(f\"\\nNAME : {name.upper()}\")\n",
    "print(f\"SCORE  : {score}\")\n",
    "print(f\"GRADE  : {grade}\")\n",
    "print(\"-----------------\")"
   ]
  },
  {
   "cell_type": "markdown",
   "id": "fad6b7a0",
   "metadata": {},
   "source": [
    "### 9.Write a program that prints the multiplication table of a user-entered number up to 10."
   ]
  },
  {
   "cell_type": "code",
   "execution_count": 16,
   "id": "49c945d8",
   "metadata": {},
   "outputs": [
    {
     "name": "stdout",
     "output_type": "stream",
     "text": [
      "6*1 = 6\n",
      "6*2 = 12\n",
      "6*3 = 18\n",
      "6*4 = 24\n",
      "6*5 = 30\n",
      "6*6 = 36\n",
      "6*7 = 42\n",
      "6*8 = 48\n",
      "6*9 = 54\n",
      "6*10 = 60\n"
     ]
    }
   ],
   "source": [
    "n = int(input(\"Enter an number : \"))\n",
    "for i in range(1,11):\n",
    "    print(f\"{n}*{i} = {n*i}\")"
   ]
  },
  {
   "cell_type": "markdown",
   "id": "0611a9e6",
   "metadata": {},
   "source": [
    "### 10.Write a Python program to check the validity of passwords input by users.\n",
    "Validation :\n",
    "At least 1 letter between [a-z] and 1 letter between [A-Z].\n",
    "At least 1 number between [0-9].\n",
    "At least 1 character from [$#@].\n",
    "Minimum length 6 characters.\n",
    "Maximum length 16 characters.\n"
   ]
  },
  {
   "cell_type": "code",
   "execution_count": null,
   "id": "e9e7eadc",
   "metadata": {},
   "outputs": [
    {
     "name": "stdout",
     "output_type": "stream",
     "text": [
      "You Entered an valid password \n"
     ]
    }
   ],
   "source": [
    "password = input(\"Enter your Password : \")\n",
    "if len(password)<6 and len(password)>16 :\n",
    "    print(\"Enter a valid password\")\n",
    "upper_case = False\n",
    "lower_case = False\n",
    "digits = False\n",
    "symbols = False\n",
    "for i in password:\n",
    "    if i.isupper():\n",
    "        upper_case = True\n",
    "    elif i.islower():\n",
    "        lower_case = True\n",
    "    elif i.isdigit():\n",
    "        digits = True\n",
    "    elif i in \"$#@\":\n",
    "        symbols = True\n",
    "if upper_case and lower_case and digits and symbols :\n",
    "    print(\"You Entered an valid password \")\n",
    "else :\n",
    "    print(\"INVALID PASSWORD\")"
   ]
  }
 ],
 "metadata": {
  "kernelspec": {
   "display_name": "Python 3",
   "language": "python",
   "name": "python3"
  },
  "language_info": {
   "codemirror_mode": {
    "name": "ipython",
    "version": 3
   },
   "file_extension": ".py",
   "mimetype": "text/x-python",
   "name": "python",
   "nbconvert_exporter": "python",
   "pygments_lexer": "ipython3",
   "version": "3.13.3"
  }
 },
 "nbformat": 4,
 "nbformat_minor": 5
}
