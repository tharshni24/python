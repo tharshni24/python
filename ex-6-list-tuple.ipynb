{
 "cells": [
  {
   "cell_type": "markdown",
   "id": "75ebe3cf",
   "metadata": {},
   "source": [
    "1.Write a program to create a list and perform the following operations: append, insert, delete, and update an element.\n"
   ]
  },
  {
   "cell_type": "code",
   "execution_count": 5,
   "id": "eb66c930",
   "metadata": {},
   "outputs": [
    {
     "name": "stdout",
     "output_type": "stream",
     "text": [
      "The values of values entered by the user [3, 6, 9, 12, 15]\n",
      "The values after appending the element is [3, 6, 9, 12, 15, 18]\n",
      "The values after inserting the elements : [3, 6, 9, 12, 10, 15, 18]\n",
      "The values after deleting the element 12 : [3, 6, 9, 10, 15, 18]\n",
      "The values after updating 10 as 12 : [3, 6, 9, 12, 15, 18]\n"
     ]
    }
   ],
   "source": [
    "x = int(input(\"Enter the total numbers of elements in the list\"))\n",
    "values = [int(input(f\"Enter the {i} element : \")) for i in range(0,x)]\n",
    "print(f\"The values of values entered by the user {values}\")\n",
    "values.append(18)\n",
    "print(f\"The values after appending the element is {values}\")\n",
    "values.insert(4,10)\n",
    "print(f\"The values after inserting the elements : {values}\")\n",
    "values.remove(12)\n",
    "print(f\"The values after deleting the element 12 : {values}\")\n",
    "values[3] = 12\n",
    "print(f\"The values after updating 10 as 12 : {values}\")"
   ]
  },
  {
   "cell_type": "markdown",
   "id": "45ff71f6",
   "metadata": {},
   "source": [
    "2.Write a program to create a list of integers and print the largest, smallest, and average of the list \n",
    "elements. "
   ]
  },
  {
   "cell_type": "code",
   "execution_count": 7,
   "id": "cbdb40f7",
   "metadata": {},
   "outputs": [
    {
     "name": "stdout",
     "output_type": "stream",
     "text": [
      "The values are : \n",
      "[3, 8, 45, 29, 12]\n",
      "The largest element is : 45\n",
      "The smallest element is : 3\n",
      "The average values : 19.4\n"
     ]
    }
   ],
   "source": [
    "n = int(input(\"Enter the total no.of integers : \"))\n",
    "values = [int(input(f\"Enter the {i} value : \")) for i in range(n)]\n",
    "print(f\"The values are : \\n{values}\")\n",
    "print(f\"The largest element is : {max(values)}\")\n",
    "print(f\"The smallest element is : {min(values)}\")\n",
    "print(f\"The average values : {(sum(values))/(len(values))}\")"
   ]
  },
  {
   "cell_type": "markdown",
   "id": "c41b45c9",
   "metadata": {},
   "source": [
    "3.Write a program to generate a list of squares of the first 10 natural numbers using list \n",
    "comprehension. "
   ]
  },
  {
   "cell_type": "code",
   "execution_count": 8,
   "id": "20252e74",
   "metadata": {},
   "outputs": [
    {
     "name": "stdout",
     "output_type": "stream",
     "text": [
      "[1, 4, 9, 16, 25, 36, 49, 64, 81, 100]\n"
     ]
    }
   ],
   "source": [
    "squares = [x**2 for x in range(1,11)]\n",
    "print(squares)"
   ]
  },
  {
   "cell_type": "markdown",
   "id": "0832c727",
   "metadata": {},
   "source": [
    "4.Write a program to create a list of student names and sort them in ascending and descending \n",
    "order."
   ]
  },
  {
   "cell_type": "code",
   "execution_count": 9,
   "id": "e3a1fb65",
   "metadata": {},
   "outputs": [
    {
     "name": "stdout",
     "output_type": "stream",
     "text": [
      "The student names are : \n",
      "['deva', 'elan', 'dhiren', 'akilan']\n",
      "The names in ascending order : \n",
      "['akilan', 'deva', 'dhiren', 'elan']\n",
      "The names in descending order : \n",
      "['elan', 'dhiren', 'deva', 'akilan']\n"
     ]
    }
   ],
   "source": [
    "n = int(input(\"Enter the total number of students : \"))\n",
    "names = [input(f\"Enter the {i} student name : \") for i in range(n)]\n",
    "print(f\"The student names are : \\n{names}\")\n",
    "print(f\"The names in ascending order : \\n{sorted(names)}\")\n",
    "print(f\"The names in descending order : \\n{sorted(names,reverse=True)}\")"
   ]
  },
  {
   "cell_type": "markdown",
   "id": "f73be2bb",
   "metadata": {},
   "source": [
    "5. Write a program to perform linear search and binary search on a list of numbers \n"
   ]
  },
  {
   "cell_type": "code",
   "execution_count": 14,
   "id": "7219da5b",
   "metadata": {},
   "outputs": [
    {
     "name": "stdout",
     "output_type": "stream",
     "text": [
      "The elements are : \n",
      "[10, 25, 35, 40, 55]\n",
      "Linear search :\n",
      "The target element is found at 3\n",
      "Binary search : \n",
      "The target element is found at 3\n"
     ]
    }
   ],
   "source": [
    "n = int(input(\"Size of the list : \"))\n",
    "values = [int(input(f\"Enter the {i} value : \")) for i in range(n)]\n",
    "target = int(input(\"Enter the number to find : \"))\n",
    "def linear_search(values,target):\n",
    "    for i in range(len(values)):\n",
    "        if values[i]==target:\n",
    "            return i\n",
    "    return -1\n",
    "def binary_search(values,target):\n",
    "    low = 0\n",
    "    high = len(values)-1\n",
    "    while low<=high:\n",
    "        mid = (low+high)//2\n",
    "        if values[mid] == target:\n",
    "            return mid\n",
    "        elif values[mid] < target:\n",
    "            low = mid+1\n",
    "        else :\n",
    "            high = mid-1\n",
    "    return -1\n",
    "print(f\"The elements are : \\n{values}\")\n",
    "print(\"Linear search :\")\n",
    "print(f\"The target element is found at {linear_search(values,target)}\")\n",
    "print(\"Binary search : \")\n",
    "print(f\"The target element is found at {binary_search(sorted(values),target)}\")"
   ]
  },
  {
   "cell_type": "markdown",
   "id": "f5f625b0",
   "metadata": {},
   "source": [
    "6. Given a list of numbers, create a new list containing the squares of only the odd numbers from \n",
    "the original list. (Use List comprehension) "
   ]
  },
  {
   "cell_type": "code",
   "execution_count": 15,
   "id": "a8f928ef",
   "metadata": {},
   "outputs": [
    {
     "name": "stdout",
     "output_type": "stream",
     "text": [
      "The user entered values : [1, 3, 6, 5, 8]\n",
      "The square values of the odd numbers : \n",
      "[1, 9, 25]\n"
     ]
    }
   ],
   "source": [
    "n = int(input(\"Size of the list : \"))\n",
    "values = [int(input(f\"Enter the {i} value : \")) for i in range(n)]\n",
    "squares = [i**2 for i in values if (i%2!=0)]\n",
    "print(f\"The user entered values : {values}\")\n",
    "print(f\"The square values of the odd numbers : \\n{squares}\")"
   ]
  },
  {
   "cell_type": "markdown",
   "id": "5c4994d0",
   "metadata": {},
   "source": [
    "7. Write a program to swap two values using tuple unpacking. \n"
   ]
  },
  {
   "cell_type": "code",
   "execution_count": 19,
   "id": "83d50019",
   "metadata": {},
   "outputs": [
    {
     "name": "stdout",
     "output_type": "stream",
     "text": [
      "Before Swapping : \n",
      "(10, 20)\n",
      "After swapping : \n",
      "(20, 10)\n"
     ]
    }
   ],
   "source": [
    "values = (10,20)\n",
    "i,j = values\n",
    "i,j=j,i\n",
    "swapped = (i,j)\n",
    "print(f\"Before Swapping : \\n{values}\")\n",
    "print(f\"After swapping : \\n{swapped}\")"
   ]
  },
  {
   "cell_type": "markdown",
   "id": "01bfd56c",
   "metadata": {},
   "source": [
    "8. Write a program to create a list of tuples containing student names and their marks, and print the \n",
    "names of students who scored more than 90."
   ]
  },
  {
   "cell_type": "code",
   "execution_count": 26,
   "id": "67765692",
   "metadata": {},
   "outputs": [
    {
     "name": "stdout",
     "output_type": "stream",
     "text": [
      "The student details : [('DEVA', 91), ('AKILAN', 88), ('VEER', 98), ('DHIREN', 92), ('DINESH', 85)]\n",
      "The students who scores more than 90 : \n",
      "DEVA,VEER,DHIREN,"
     ]
    }
   ],
   "source": [
    "details = []\n",
    "n = int(input(\"Enter the number of students : \"))\n",
    "for i in range(n):\n",
    "    i = ()\n",
    "    name = input(\"Enter the name of the student : \").upper()\n",
    "    marks = int(input(f\"Enter {name} mark : \"))\n",
    "    i = (name,marks)\n",
    "    details.append(i)\n",
    "print(f\"The student details : {details}\")\n",
    "print(f\"The students who scores more than 90 : \")\n",
    "for i in range(len(details)):\n",
    "    if (details[i][1]) > 90 :\n",
    "        print(details[i][0],end=\",\")\n",
    "\n"
   ]
  },
  {
   "cell_type": "markdown",
   "id": "c5a82d65",
   "metadata": {},
   "source": [
    "9. A sensor returns a list of readings. Negative readings are invalid and should be replaced by zero \n",
    "and Use list comprehension to replace all negative numbers in a list with 0."
   ]
  },
  {
   "cell_type": "code",
   "execution_count": 35,
   "id": "e9708154",
   "metadata": {},
   "outputs": [
    {
     "name": "stdout",
     "output_type": "stream",
     "text": [
      "[0, 1016, 0, 0, 1896, 1575]\n"
     ]
    }
   ],
   "source": [
    "## example sensor readings\n",
    "readings = [-1234,1016,-1346,-1121,1896,1575]\n",
    "new_readings = [x if x>=0 else 0 for x in readings]\n",
    "print(new_readings)"
   ]
  },
  {
   "cell_type": "markdown",
   "id": "d788549a",
   "metadata": {},
   "source": [
    "10. Create a system to process customer orders. Each order can contain multiple items (represented \n",
    "as strings). The system should allow adding items to an order, removing items, displaying the \n",
    "current order, and calculating the total number of items in the order. You could extend this by \n",
    "associating quantities with each item (e.g., a list of tuples: [(\"Laptop\", 1), (\"Mouse\", 2)]). "
   ]
  },
  {
   "cell_type": "code",
   "execution_count": 39,
   "id": "2c7290e0",
   "metadata": {},
   "outputs": [
    {
     "name": "stdout",
     "output_type": "stream",
     "text": [
      "--------Welcome-------\n",
      "\n",
      "Enter Your orders ! \n",
      "Your orders are : \n",
      "[('soap', 5), ('paste', 3), ('brush', 2)]\n",
      "The total no.of items are : 10\n",
      "Your order is : \n",
      "[('soap', 5), ('paste', 3), ('brush', 2)]\n"
     ]
    }
   ],
   "source": [
    "order = []\n",
    "print(\"--------Welcome-------\\n\")\n",
    "print(\"Enter Your orders ! \")\n",
    "n = int(input(\"enter the no.of items : \"))\n",
    "for i in range(n):\n",
    "    x = ()\n",
    "    name = input(\"enter the name of the product : \")\n",
    "    quantity = int(input(f\"Enter the quantity of {name} : \"))\n",
    "    x = (name,quantity)\n",
    "    order.append(x)\n",
    "print(f\"Your orders are : \\n{order}\")\n",
    "def adding(order):\n",
    "    while True: \n",
    "        x = ()\n",
    "        name = input(\"enter the name of the product : \")\n",
    "        quantity = int(input(f\"Enter the quantity of {name} : \"))\n",
    "        x = (name,quantity)\n",
    "        order.append(x)\n",
    "        choice = int(input(\"Want to add another item \\nIf Yes enter 1 \\nIf No enter 0\"))\n",
    "        if choice == 0:\n",
    "            print(f\"Your orders are : \\n{order}\")\n",
    "            return 0\n",
    "    return order\n",
    "def removing(order):\n",
    "    name = input(\"Enter the name of product to be removed : \")\n",
    "    for i in range(len(order)):\n",
    "        if order[i][0]== name :\n",
    "            order.pop(i)\n",
    "    return order\n",
    "\n",
    "def total(order):\n",
    "    sum = 0\n",
    "    for i in range(len(order)):\n",
    "        sum += order[i][1]\n",
    "    return sum\n",
    "while True:\n",
    "    u = int(input(f\"Want to add more products : \\n   Enter 1\\nWant to remove an product : \\n  Enter 2 \\nWant to calculate total no of items : \\n  Enter 3\\nWant to exit and display orders : \\n  Enter 4\"))\n",
    "    if u == 1:\n",
    "        adding(order)\n",
    "    elif u == 2:\n",
    "        print(f\"The final products after removing : \\n{removing(order)}\") \n",
    "    elif u == 3:\n",
    "        print(f\"The total no.of items are : {total(order)}\") \n",
    "    elif u == 4:\n",
    "        print(f\"Your order is : \\n{order}\")\n",
    "        break       \n",
    "    else :\n",
    "        print(\"Enter an valid option\")"
   ]
  },
  {
   "cell_type": "markdown",
   "id": "00aa583a",
   "metadata": {},
   "source": [
    "11.Given a list of numbers and a target sum, find all unique pairs of numbers in the list that add up \n",
    "to the target sum."
   ]
  },
  {
   "cell_type": "code",
   "execution_count": 17,
   "id": "ba93e858",
   "metadata": {},
   "outputs": [
    {
     "name": "stdout",
     "output_type": "stream",
     "text": [
      "[[2, 9], [3, 8], [4, 7], [5, 6], [1, 10]]\n"
     ]
    }
   ],
   "source": [
    "## n = int(input(\"Enter the total no of integers : \"))\n",
    "## values = [int(input()) for _ in range(n)]\n",
    "values = [2,3,4,5,6,7,8,9,10,1]\n",
    "unique_pair = []\n",
    "target = int(input(\"Enter targeted value : \"))\n",
    "for i in range(len(values)):\n",
    "    for j in range(len(values)):\n",
    "        if j == i:\n",
    "            continue\n",
    "        else :\n",
    "            pair = []\n",
    "            if values[i] + values[j] == target:\n",
    "                pair = sorted([values[i],values[j]])\n",
    "                if pair not in unique_pair:\n",
    "                    unique_pair.append(pair)\n",
    "print(unique_pair)\n",
    "\n"
   ]
  },
  {
   "cell_type": "markdown",
   "id": "09fa3edc",
   "metadata": {},
   "source": [
    "12. Implement a function that performs Run-Length Encoding on a list of characters. RLE \n",
    "compresses data by replacing consecutive identical characters with the character and its count. \n",
    "For example, [\"a\", \"a\", \"a\", \"b\", \"b\", \"c\"] would be encoded as [(\"a\", 3), (\"b\", 2), (\"c\", 1)].  "
   ]
  },
  {
   "cell_type": "code",
   "execution_count": 1,
   "id": "cde77a81",
   "metadata": {},
   "outputs": [
    {
     "name": "stdout",
     "output_type": "stream",
     "text": [
      "[('a', 3), ('b', 2), ('c', 1)]\n"
     ]
    }
   ],
   "source": [
    "letter = [\"b\",\"b\",\"a\",\"a\",\"a\",\"c\"]\n",
    "alphabets = sorted(list(set(letter)))\n",
    "letter = sorted(letter)\n",
    "answer = [] \n",
    "for i in alphabets:\n",
    "    count = letter.count(i)\n",
    "    answer.append(tuple([i,count]))\n",
    "print(answer)"
   ]
  },
  {
   "cell_type": "markdown",
   "id": "0a54a30d",
   "metadata": {},
   "source": [
    "13. Scenario: \n",
    "Given a matrix and need to transpose it and  Use nested list comprehension to transpose a \n",
    "matrix. \n",
    "Input: \n",
    "matrix = [ \n",
    "[1, 2, 3], \n",
    "[4, 5, 6]  \n",
    "] \n",
    "Output: \n",
    "[ \n",
    "[1, 4], \n",
    "[2, 5], \n",
    "[3, 6] \n",
    "] "
   ]
  },
  {
   "cell_type": "code",
   "execution_count": 31,
   "id": "b55e8c82",
   "metadata": {},
   "outputs": [
    {
     "name": "stdout",
     "output_type": "stream",
     "text": [
      "[[1, 4], [2, 5], [3, 6]]\n"
     ]
    }
   ],
   "source": [
    "matrix = [[1,2,3],[4,5,6]]\n",
    "transposed = [[row[i] for row in matrix] for i in range(len(matrix[0]))]\n",
    "print(transposed)\n"
   ]
  },
  {
   "cell_type": "markdown",
   "id": "b16325e4",
   "metadata": {},
   "source": [
    "14. Given a list of strings, extract digits from each string and store them in a new list. \n",
    "Input: [\"abc123\", \"hello99\"] → Output: [\"123\", \"99\"] "
   ]
  },
  {
   "cell_type": "code",
   "execution_count": null,
   "id": "b869214d",
   "metadata": {},
   "outputs": [
    {
     "name": "stdout",
     "output_type": "stream",
     "text": [
      "['123', '99']\n"
     ]
    }
   ],
   "source": [
    "ex = [\"abc123\",\"hello99\"]\n",
    "numbers = []\n",
    "for i in ex:\n",
    "    s = \"\"\n",
    "    for x in i:\n",
    "        if x.isdigit():\n",
    "            s = s+x\n",
    "    numbers.append(s)\n",
    "print(numbers)\n"
   ]
  }
 ],
 "metadata": {
  "kernelspec": {
   "display_name": "Python 3",
   "language": "python",
   "name": "python3"
  },
  "language_info": {
   "codemirror_mode": {
    "name": "ipython",
    "version": 3
   },
   "file_extension": ".py",
   "mimetype": "text/x-python",
   "name": "python",
   "nbconvert_exporter": "python",
   "pygments_lexer": "ipython3",
   "version": "3.13.3"
  }
 },
 "nbformat": 4,
 "nbformat_minor": 5
}
