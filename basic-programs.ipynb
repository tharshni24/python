{
 "cells": [
  {
   "cell_type": "markdown",
   "id": "2cd210cb",
   "metadata": {},
   "source": [
    "### 1.Write a program to calculate the area of a triangle using Heron’s formula.\n",
    "### (Hint: Heron’s formula is given as: area = sqrt(S*(S–a)*(S–b)*(S–c)))\n"
   ]
  },
  {
   "cell_type": "code",
   "execution_count": 24,
   "id": "51e4052b",
   "metadata": {},
   "outputs": [
    {
     "name": "stdout",
     "output_type": "stream",
     "text": [
      "AREA of the triangle is :  8.9443\n"
     ]
    }
   ],
   "source": [
    "a = float(input(\"enter the length of A :\"))\n",
    "b = float(input(\"enter the length of B :\"))\n",
    "c = float(input(\"enter the length of C :\"))\n",
    "s = (a+b+c)/2\n",
    "area = (s*(s-a)*(s-b)*(s-c))**0.5\n",
    "print(\"AREA of the triangle is : \",round(area,4))"
   ]
  },
  {
   "cell_type": "markdown",
   "id": "f9d2e0cf",
   "metadata": {},
   "source": [
    "### 2.Write a program to calculate the distance between two points."
   ]
  },
  {
   "cell_type": "code",
   "execution_count": 1,
   "id": "b0bab66a",
   "metadata": {},
   "outputs": [
    {
     "name": "stdout",
     "output_type": "stream",
     "text": [
      "The distance between two points is :  2.8284\n"
     ]
    }
   ],
   "source": [
    "x1 = float(input(\"Enter the X coordinate of the point 1 : \"))\n",
    "y1 = float(input(\"Enter the Y coordinate of the point 1 : \"))\n",
    "x2 = float(input(\"Enter the X coordinate of the point 2 : \"))\n",
    "y2 = float(input(\"Enter the X coordinate of the point 2 : \"))\n",
    "d = ((x2-x1)**2 + (y2-y1)**2)**0.5\n",
    "print(\"The distance between two points is : \",round(d,4))\n"
   ]
  },
  {
   "cell_type": "markdown",
   "id": "7753dbe9",
   "metadata": {},
   "source": [
    "### 3.Write a program to calculate the area of a circle, rectangle, triangle, and square."
   ]
  },
  {
   "cell_type": "code",
   "execution_count": null,
   "id": "a73cfd85",
   "metadata": {},
   "outputs": [
    {
     "name": "stdout",
     "output_type": "stream",
     "text": [
      "Area of the rectangle is :  720.0\n"
     ]
    }
   ],
   "source": [
    "import math\n",
    "ques = input(\"Enter what area to be calculate \\n 1.circle\\n2.rectangle\\n3.triangle\\n4.square : \").lower()\n",
    "if ques == \"circle\" :\n",
    "    radius = float(\"enter the radius of the circle : \")\n",
    "    area_circle = math.pi*(r**2)\n",
    "    print(\"The area of the given circle : \",area_circle)\n",
    "elif ques == \"rectangle\" :\n",
    "    length = float(input(\"Enter the length of the rectangle : \"))\n",
    "    breadth = float(input(\"Enter the breadth of the rectangle : \"))\n",
    "    area_rectangle = length*breadth\n",
    "    print(\"Area of the rectangle is : \",area_rectangle)\n",
    "elif ques == \"triangle\":\n",
    "    base = float(input(\"enter the base of the triangle : \"))\n",
    "    height = float(input(\"enter the height of the triangle : \"))\n",
    "    area_triangle = (1/2)*base*height \n",
    "    print(\"The area of the triangle : \",area_triangle)\n",
    "elif ques == \"square\" :\n",
    "    side = float(input(\"Enter the length of the side of an square : \"))\n",
    "    area_square = side**2\n",
    "    print(\"The Area of an Square : \",area_square)\n",
    "else :\n",
    "    print(\"Enter an valid option\")\n",
    "    "
   ]
  },
  {
   "cell_type": "markdown",
   "id": "27ae8150",
   "metadata": {},
   "source": [
    "### 4.Write a program to print the digit at one’s place of a number."
   ]
  },
  {
   "cell_type": "code",
   "execution_count": 2,
   "id": "fc3f0b36",
   "metadata": {},
   "outputs": [
    {
     "name": "stdout",
     "output_type": "stream",
     "text": [
      "The digit at one's place of the given number is : 3\n"
     ]
    }
   ],
   "source": [
    "num = abs(int(input(\"enter an number : \")))\n",
    "ones = num%10\n",
    "print(f\"The digit at one's place of the given number is : {ones}\")\n",
    "\n"
   ]
  },
  {
   "cell_type": "markdown",
   "id": "f369a397",
   "metadata": {},
   "source": [
    "### 5.Write a program to calculate the total amount of money in the piggy bank, given the coins of ₹10, ₹5, ₹2, and ₹1.\n"
   ]
  },
  {
   "cell_type": "code",
   "execution_count": null,
   "id": "f7631d10",
   "metadata": {},
   "outputs": [
    {
     "name": "stdout",
     "output_type": "stream",
     "text": [
      "The Total amount present in the piggy bank is : 172\n"
     ]
    }
   ],
   "source": [
    "ten = int(input(\"Enter the number of 10 rupee coin in the piggy bank : \"))\n",
    "five = int(input(\"Enter the number of 5 rupee coin in the piggy bank : \"))\n",
    "two = int(input(\"Enter the number of 2 rupee coin in the piggy bank : \"))\n",
    "one= int(input(\"Enter the number of 10 rupee coin in the piggy bank : \"))\n",
    "print(f\"The Total amount present in the piggy bank is : ₹{10*ten + 5*five + two*2 + one}\")"
   ]
  },
  {
   "cell_type": "markdown",
   "id": "674da058",
   "metadata": {},
   "source": [
    "### 6.Write a program to calculate the bill amount for an item given its quantity sold, value, discount, and tax.\n"
   ]
  },
  {
   "cell_type": "code",
   "execution_count": null,
   "id": "a6589a87",
   "metadata": {},
   "outputs": [
    {
     "name": "stdout",
     "output_type": "stream",
     "text": [
      "---- Total Bill -----\n",
      "Name    :   BRUSH\n",
      "Quantity :  3\n",
      "Price :     15.0\n",
      "Discount:   6%\n",
      "tax:        4%\n",
      "Total :     43.99\n"
     ]
    }
   ],
   "source": [
    "item = input(\"Enter the name of the product : \")\n",
    "quantity = int(input(\"Enter the quantity : \"))\n",
    "price = float(input(\"Enter the price of the item : \"))\n",
    "discount = int(input(\"enter the discount out of 100 : \"))\n",
    "tax = int(input(\"Enter the total tax for the given item : \"))\n",
    "total_bill = quantity*price\n",
    "after_dis = total_bill - total_bill*(discount/100)\n",
    "final_bill = after_dis + after_dis*(tax/100)\n",
    "print(\"---- Total Bill -----\")\n",
    "print(\"Name    :  \",item.upper())\n",
    "print(\"Quantity : \",quantity)\n",
    "print(\"Price :    ₹\",price)\n",
    "print(f\"Discount:   {discount}%\")\n",
    "print(f\"tax:        {tax}%\")\n",
    "print(\"Total :    ₹\",round(final_bill,2))\n"
   ]
  },
  {
   "cell_type": "markdown",
   "id": "664c979b",
   "metadata": {},
   "source": [
    "### 7.Write a python program to calculate a household's electricity bill.The user should enter the number of units consumed. The charges are as follows:\n",
    "For the first 100 units: ₹1.50 per unit\n",
    "For the next 100 units (101–200): ₹2.00 per unit\n",
    "For units above 200: ₹3.00 per unit\n",
    "#### A fixed meter charge of ₹50 is added to the bill.Display the total amount to be paid with a proper bill format.\n"
   ]
  },
  {
   "cell_type": "code",
   "execution_count": null,
   "id": "fbb2ee32",
   "metadata": {},
   "outputs": [
    {
     "name": "stdout",
     "output_type": "stream",
     "text": [
      "------ Total Bill -------\n",
      "units        :      250.0\n",
      "meter charge :      50\n",
      "Final Bill   :      550.0\n",
      "-------------------------\n"
     ]
    }
   ],
   "source": [
    "units = float(input(\"Enter the number of units consumed : \"))\n",
    "bill = 0\n",
    "if units in range(0,101):\n",
    "    bill = bill + units*1.50\n",
    "elif units in range(101,201):\n",
    "    bill = (100*1.50)+((units-100)*2.00)\n",
    "elif units > 200 :\n",
    "    bill = (100*1.50) + (100*2.00) + ((units-200)*3.00)\n",
    "else :\n",
    "    pass\n",
    "bill += 50\n",
    "print(\"------ Total Bill -------\")\n",
    "print(\"units        :     \",units)\n",
    "print(\"meter charge :      50\")\n",
    "print(\"Final Bill   :     ₹\",bill)\n",
    "print(\"-------------------------\")"
   ]
  },
  {
   "cell_type": "markdown",
   "id": "094f6f18",
   "metadata": {},
   "source": [
    "### 8.Develop a Python program that calculates an employee’s net salary. Accept input for:\n",
    "Employee name and ID\n",
    "Number of hours worked\n",
    "Hourly wage\n",
    "#### Calculate the gross salary and deduct 10% as tax. Display a proper salary slip with all details.\n"
   ]
  },
  {
   "cell_type": "code",
   "execution_count": null,
   "id": "d398a10e",
   "metadata": {},
   "outputs": [
    {
     "name": "stdout",
     "output_type": "stream",
     "text": [
      "--------- Salary Slip ------------\n",
      "NAME         :  DEVA\n",
      "EMPLOYEE ID  :  24cs043\n",
      "WORKED HOURS :  25\n",
      "HOUR WAGE    :  69.0\n",
      "TAX          :  12\n",
      "\n",
      "--- SALARY BEFORE TAX -----\n",
      "GROSS SALARY :  1725.0\n",
      "\n",
      "--- SALARY AFTER TAX ------\n",
      "NET SALARY   :  1518.0\n",
      "\n",
      "-----------------------------\n"
     ]
    }
   ],
   "source": [
    "name = input(\"Enter the employee name : \")\n",
    "em_ip = input(\"Enter the employee id : \")\n",
    "worked = int(input(\"Numbers of hours Worked : \"))\n",
    "wage = float(input(\"Enter The Hourly wage : \"))\n",
    "gross_salary = worked*wage\n",
    "tax = int(input(\"Enter Tax percentage : \"))\n",
    "net_salary = gross_salary - (gross_salary*(tax/100))\n",
    "print(\"--------- Salary Slip ------------\")\n",
    "print(\"NAME         : \",name.upper())\n",
    "print(\"EMPLOYEE ID  : \",em_ip)\n",
    "print(\"WORKED HOURS : \",worked)\n",
    "print(\"HOUR WAGE    : ₹\",wage)\n",
    "print(\"TAX          : \",tax)\n",
    "print(\"\\n--- SALARY BEFORE TAX -----\")\n",
    "print(\"GROSS SALARY : ₹\",gross_salary)\n",
    "print(\"\\n--- SALARY AFTER TAX ------\")\n",
    "print(\"NET SALARY   : ₹\",net_salary)\n",
    "print(\"\\n-----------------------------\")\n"
   ]
  },
  {
   "cell_type": "markdown",
   "id": "81c77a6a",
   "metadata": {},
   "source": [
    "### 9.Write a Python program to calculate the total cost of movie tickets.\n",
    "##### Accept: Number of tickets\n",
    "##### Ticket category (Silver: ₹120, Gold: ₹180, Platinum: ₹250)\n",
    "#### Add 18% GST to the ticket cost. Display a formatted bill.\n"
   ]
  },
  {
   "cell_type": "code",
   "execution_count": 2,
   "id": "73a37dd2",
   "metadata": {},
   "outputs": [
    {
     "name": "stdout",
     "output_type": "stream",
     "text": [
      "------- TICKET BOOKING ---------\n",
      "TOTAL TICKETS  :  6\n",
      "  silver       :  3\n",
      "  gold         :  1\n",
      "  platinum     :  2\n",
      "\n",
      "GROSS PRICE  : ₹ 1040\n",
      "TAX            :  7\n",
      "\n",
      "NET PRICE    : ₹ 967.2\n"
     ]
    }
   ],
   "source": [
    "ticket = int(input(\"Enter total number of tickets : \"))\n",
    "silver = int(input(\"enter total number of tickets in silver : \"))\n",
    "gold = int(input(\"enter total number of tickets in gold : \"))\n",
    "platinum = int(input(\"enter total number of tickets in platinum : \"))\n",
    "tax = int(input(\"Enter Tax percentage : \"))\n",
    "\n",
    "if (silver + gold + platinum) > ticket :\n",
    "    print(\"You Enter Wrong Numbers of Tickets \\n Please Check Correctly and Enter the Numbers of Tickets \")\n",
    "fare = silver*120 + gold*180 + platinum*250\n",
    "net = fare - (fare*(tax/100))\n",
    "print(\"------- TICKET BOOKING ---------\")\n",
    "print(\"TOTAL TICKETS  : \",ticket)\n",
    "print(\"  silver       : \",silver)\n",
    "print(\"  gold         : \",gold)\n",
    "print(\"  platinum     : \",platinum)\n",
    "print(\"\\nGROSS PRICE  : ₹\",fare)\n",
    "print(\"TAX            : \",tax)\n",
    "print(\"\\nNET PRICE    : ₹\",net)"
   ]
  },
  {
   "cell_type": "markdown",
   "id": "300184ab",
   "metadata": {},
   "source": [
    "### 10.Develop a Python program that estimates travel fare based on distance and transport mode. \n",
    "#### Input: Distance (in km), Mode (Bus: ₹5/km, Train: ₹2/km, Cab: ₹10/km)\n",
    "### Calculate and display the total fare and estimated travel time (assuming constant speeds for each mode).\n"
   ]
  },
  {
   "cell_type": "code",
   "execution_count": 1,
   "id": "0844710a",
   "metadata": {},
   "outputs": [
    {
     "name": "stdout",
     "output_type": "stream",
     "text": [
      "\n",
      "MODE OF TRAVEL :  2\n",
      "DISTANCE :  63\n",
      "TOTAL FARE : ₹ 126\n",
      "TIME TAKEN :  42.0  minutes\n"
     ]
    }
   ],
   "source": [
    "distance = int(input(\"enter distance in km : \"))\n",
    "mode = int(input(\"choose your option \\n1.BUS \\n2.TRAIN \\n3.CAB\"))\n",
    "fare = 0\n",
    "time = 0\n",
    "if mode == 1:\n",
    "    fare = distance*5\n",
    "    time = distance/(45/60)\n",
    "    # 45km speed per hour in bus (averagely)\n",
    "elif mode == 2:\n",
    "    fare = distance*2\n",
    "    time = distance/(90/60)\n",
    "    # 90km speed per hour in train (averagely)\n",
    "elif mode == 3:\n",
    "    fare = distance*10\n",
    "    time = distance/(65/60)\n",
    "    # 65km speed per hour in cab (averagely)\n",
    "else:\n",
    "    print(\"chose crct option \")\n",
    "print(\"\\nMODE OF TRAVEL : \",mode)\n",
    "print(\"DISTANCE : \",distance)\n",
    "print(\"TOTAL FARE : ₹\",fare)\n",
    "print(\"TIME TAKEN : \",round(time,2),\" minutes\")\n"
   ]
  }
 ],
 "metadata": {
  "kernelspec": {
   "display_name": "Python 3",
   "language": "python",
   "name": "python3"
  },
  "language_info": {
   "codemirror_mode": {
    "name": "ipython",
    "version": 3
   },
   "file_extension": ".py",
   "mimetype": "text/x-python",
   "name": "python",
   "nbconvert_exporter": "python",
   "pygments_lexer": "ipython3",
   "version": "3.13.3"
  }
 },
 "nbformat": 4,
 "nbformat_minor": 5
}
