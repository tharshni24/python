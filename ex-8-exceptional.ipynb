{
 "cells": [
  {
   "cell_type": "markdown",
   "id": "69ff8fdc",
   "metadata": {},
   "source": [
    "1.Safe Division Calculator: You're building a simple calculator app. One of the most common \n",
    "issues is when a user tries to divide by zero. Write a program that takes two numbers from the \n",
    "user and performs division. Use try-except to handle ZeroDivisionError and display an \n",
    "appropriate message like \"Cannot divide by zero\". "
   ]
  },
  {
   "cell_type": "code",
   "execution_count": 3,
   "id": "cbf3b2f1",
   "metadata": {},
   "outputs": [
    {
     "name": "stdout",
     "output_type": "stream",
     "text": [
      "Cannot divide by zero\n"
     ]
    }
   ],
   "source": [
    "try :\n",
    "    a = int(input(\"Enter the number 1 : \"))\n",
    "    b = int(input(\"Enter the number 2 : \"))\n",
    "    div = a/b\n",
    "    print(f\"The result is : \")\n",
    "    print(f\"{a} / {b} = {div:.2f}\")\n",
    "except :\n",
    "    print(\"Cannot divide by zero\")"
   ]
  },
  {
   "cell_type": "markdown",
   "id": "f1fc94e6",
   "metadata": {},
   "source": [
    "2.Robust List Indexing: You’re developing a student report viewer. Users may sometimes enter \n",
    "an invalid index to view a student’s mark. Write a program that accesses an element from a \n",
    "predefined list of marks using an index provided by the user. Use exception handling to catch \n",
    "IndexError and print \"Invalid index entered. Please try again.\" "
   ]
  },
  {
   "cell_type": "code",
   "execution_count": null,
   "id": "b6c00e34",
   "metadata": {},
   "outputs": [],
   "source": [
    "marks = [85, 92, 78, 90, 88]\n",
    "try:\n",
    "    index = int(input(\"Enter the index of the mark you want to view (0 to 4): \"))\n",
    "    print(f\"Mark at index {index}: {marks[index]}\")\n",
    "except IndexError:\n",
    "    print(\"Invalid index entered. Please try again.\")\n"
   ]
  },
  {
   "cell_type": "markdown",
   "id": "a7459411",
   "metadata": {},
   "source": [
    "3. Type-Safe Input for Integer Conversion: You’re building a data entry form. Sometimes users \n",
    "enter text when a number is expected. Write a program that takes user input and converts it to \n",
    "an integer. Handle ValueError using a try-except block and print \"Please enter a valid \n",
    "number.\" if the input is not convertible."
   ]
  },
  {
   "cell_type": "code",
   "execution_count": 5,
   "id": "2714ca34",
   "metadata": {},
   "outputs": [
    {
     "name": "stdout",
     "output_type": "stream",
     "text": [
      "Please enter a valid number!\n"
     ]
    }
   ],
   "source": [
    "try :\n",
    "    pin = int(input(\"Enter the pin : \"))\n",
    "    print(f\"The user entered pin is : {pin}\")\n",
    "except ValueError :\n",
    "    print(\"Please enter a valid number!\")"
   ]
  }
 ],
 "metadata": {
  "kernelspec": {
   "display_name": "Python 3",
   "language": "python",
   "name": "python3"
  },
  "language_info": {
   "codemirror_mode": {
    "name": "ipython",
    "version": 3
   },
   "file_extension": ".py",
   "mimetype": "text/x-python",
   "name": "python",
   "nbconvert_exporter": "python",
   "pygments_lexer": "ipython3",
   "version": "3.11.0"
  }
 },
 "nbformat": 4,
 "nbformat_minor": 5
}
