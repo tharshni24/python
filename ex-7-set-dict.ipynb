{
 "cells": [
  {
   "cell_type": "markdown",
   "id": "4c0d82ae",
   "metadata": {},
   "source": [
    "1. Write a program to create a set and perform the following operations: Add an element, \n",
    "remove an element, check for membership, and clear the set. "
   ]
  },
  {
   "cell_type": "code",
   "execution_count": 9,
   "id": "30e11d37",
   "metadata": {},
   "outputs": [
    {
     "name": "stdout",
     "output_type": "stream",
     "text": [
      "Creating set : set()\n",
      "adding an element : {2}\n",
      "adding multiple element : {8, 2, 4, 6}\n",
      "removing element 2 : {8, 4, 6}\n",
      "4 is present \n",
      "After clearing the set elements : set()\n"
     ]
    }
   ],
   "source": [
    "x = set()\n",
    "print(f\"Creating set : {x}\")\n",
    "x.add(2)\n",
    "print(f\"adding an element : {x}\")\n",
    "x.update([4,6,8])\n",
    "print(f\"adding multiple element : {x}\")\n",
    "x.remove(2)\n",
    "print(f\"removing element 2 : {x}\")\n",
    "element = int(input(\"Enter an element to check for membership : \"))\n",
    "if element in x :\n",
    "    print(f\"{element} is present \")\n",
    "else :\n",
    "    print(f\"{Element} is not found \")\n",
    "x.clear()\n",
    "print(f\"After clearing the set elements : {x}\")"
   ]
  },
  {
   "cell_type": "markdown",
   "id": "11c76b75",
   "metadata": {},
   "source": [
    "2. Write a program to take two sets of integers and perform the following operations: Union, \n",
    "intersection, difference, and symmetric difference. "
   ]
  },
  {
   "cell_type": "code",
   "execution_count": 10,
   "id": "96503656",
   "metadata": {},
   "outputs": [
    {
     "name": "stdout",
     "output_type": "stream",
     "text": [
      "Set 1 = {0, 2, 4, 6, 7, 8, 9} \n",
      "set 2 = {1, 3, 5, 7, 8, 9}\n",
      "Uninon : {0, 1, 2, 3, 4, 5, 6, 7, 8, 9} \n",
      "Difference : {0, 2, 4, 6} \n",
      "Intersection : {8, 9, 7} \n",
      "Symmetric : {0, 1, 2, 3, 4, 5, 6}\n"
     ]
    }
   ],
   "source": [
    "set1 = {0,2,4,6,7,8,9}\n",
    "set2 = {1,3,5,7,8,9}\n",
    "print(f\"Set 1 = {set1} \\nset 2 = {set2}\")\n",
    "union = set1 | set2\n",
    "diff = set1 - set2\n",
    "intersec = set1 & set2\n",
    "symmetric = set1 ^ set2\n",
    "print(f\"Uninon : {union} \\nDifference : {diff} \\nIntersection : {intersec} \\nSymmetric : {symmetric}\")"
   ]
  },
  {
   "cell_type": "markdown",
   "id": "7212ce96",
   "metadata": {},
   "source": [
    "3. Write a program to count the number of unique words in a given sentence using a set. "
   ]
  },
  {
   "cell_type": "code",
   "execution_count": 6,
   "id": "7ff34b9c",
   "metadata": {},
   "outputs": [
    {
     "name": "stdout",
     "output_type": "stream",
     "text": [
      "The Number of unique words is : 2\n"
     ]
    }
   ],
   "source": [
    "sen = input(\"Enter the Sentence : \")\n",
    "s = set(sen.split())\n",
    "print(f\"The Number of unique words is : {len(s)}\")"
   ]
  },
  {
   "cell_type": "markdown",
   "id": "10f49cb5",
   "metadata": {},
   "source": [
    "4. Write a program to create a set of even numbers from 1 to 20 using set comprehension. "
   ]
  },
  {
   "cell_type": "code",
   "execution_count": 7,
   "id": "01cd6a8a",
   "metadata": {},
   "outputs": [
    {
     "name": "stdout",
     "output_type": "stream",
     "text": [
      "Even numbers from 1 to 20 : {2, 4, 6, 8, 10, 12, 14, 16, 18, 20}\n"
     ]
    }
   ],
   "source": [
    "s = {x for x in range(1,21) if x%2==0 }\n",
    "print(f\"Even numbers from 1 to 20 : {s}\")"
   ]
  },
  {
   "cell_type": "markdown",
   "id": "d68480c8",
   "metadata": {},
   "source": [
    "5. Write a program to create a dictionary with names and ages of 5 people and print the \n",
    "dictionary. "
   ]
  },
  {
   "cell_type": "code",
   "execution_count": 8,
   "id": "da5be2e6",
   "metadata": {},
   "outputs": [
    {
     "name": "stdout",
     "output_type": "stream",
     "text": [
      "{'deva': 17, 'dharun': 18, 'arun': 19, 'abdul': 18, 'elan ': 16}\n"
     ]
    }
   ],
   "source": [
    "det = {}\n",
    "for _ in range(5):\n",
    "    name = input(\"Enter Name : \")\n",
    "    age = int(input(\"Enter Age : \"))\n",
    "    det[name] = age\n",
    "print(det)"
   ]
  },
  {
   "cell_type": "markdown",
   "id": "783c8466",
   "metadata": {},
   "source": [
    "6. Write a program to search for a key in a dictionary and print its value if found. "
   ]
  },
  {
   "cell_type": "code",
   "execution_count": 11,
   "id": "f6365871",
   "metadata": {},
   "outputs": [
    {
     "name": "stdout",
     "output_type": "stream",
     "text": [
      " key : arun , value : 19\n"
     ]
    }
   ],
   "source": [
    "dict = {'deva': 17, 'dharun': 18, 'arun': 19, 'abdul': 18, 'elan ': 16}\n",
    "key = input(\"Enter the name : \")\n",
    "if key in dict.keys():\n",
    "    print(f\" key : {key} , value : {dict[key]}\")\n",
    "else :\n",
    "    print(f\"Key is not found in the dictionary\")"
   ]
  },
  {
   "cell_type": "markdown",
   "id": "d6fc93a4",
   "metadata": {},
   "source": [
    "7. Write a program to update a value in a dictionary and remove a key-value pair. "
   ]
  },
  {
   "cell_type": "code",
   "execution_count": 12,
   "id": "257bf87d",
   "metadata": {},
   "outputs": [
    {
     "name": "stdout",
     "output_type": "stream",
     "text": [
      "The dictionary : {'apple': 200, 'banana': 80, 'orange': 160, 'pineapple': 180, 'berries': 300}\n",
      "Values after removing orange : {'apple': 200, 'banana': 80, 'pineapple': 180, 'berries': 300}\n",
      "After updating banana value : {'apple': 200, 'banana': 100, 'pineapple': 180, 'berries': 300}\n"
     ]
    }
   ],
   "source": [
    "d = {'apple':200,'banana':80,'orange':160,'pineapple':180,'berries':300}\n",
    "print(f\"The dictionary : {d}\")\n",
    "del d['orange']\n",
    "print(f\"Values after removing orange : {d}\")\n",
    "d['banana'] = 100\n",
    "print(f\"After updating banana value : {d}\")"
   ]
  },
  {
   "cell_type": "markdown",
   "id": "45efe2a7",
   "metadata": {},
   "source": [
    "8. Write a program to count the frequency of characters in a user-given string using a dictionary."
   ]
  },
  {
   "cell_type": "code",
   "execution_count": 2,
   "id": "5f97cb52",
   "metadata": {},
   "outputs": [
    {
     "name": "stdout",
     "output_type": "stream",
     "text": [
      "The frequency of characters in the user given string is : \n",
      "h = 1\n",
      "o = 2\n",
      "w = 2\n",
      "a = 2\n",
      "s = 1\n",
      "y = 2\n",
      "u = 1\n",
      "r = 1\n",
      "d = 1\n"
     ]
    }
   ],
   "source": [
    "frequency = {}\n",
    "s = input(\"Enter the Sentence : \")\n",
    "for ch in s:\n",
    "    if ch.isspace():\n",
    "        continue\n",
    "    frequency[ch] = frequency.get(ch,0)+1\n",
    "print(f\"The frequency of characters in the user given string is : \")\n",
    "for key,value in frequency.items():\n",
    "    print(f\"{key} = {value}\")"
   ]
  },
  {
   "cell_type": "markdown",
   "id": "bf2bd7b8",
   "metadata": {},
   "source": [
    "9. Write a program to merge two dictionaries into one. "
   ]
  },
  {
   "cell_type": "code",
   "execution_count": 4,
   "id": "3ee69365",
   "metadata": {},
   "outputs": [
    {
     "name": "stdout",
     "output_type": "stream",
     "text": [
      "After merging two dictionary : {'apple': 200, 'banana': 100, 'pineapple': 180, 'berries': 300, 'deva': 17, 'dharun': 18, 'arun': 19, 'abdul': 18, 'elan ': 16}\n"
     ]
    }
   ],
   "source": [
    "dict1 = {'apple': 200, 'banana': 100, 'pineapple': 180, 'berries': 300}\n",
    "dict2 = {'deva': 17, 'dharun': 18, 'arun': 19, 'abdul': 18, 'elan ': 16}\n",
    "dict1.update(dict2)\n",
    "print(f\"After merging two dictionary : {dict1}\")"
   ]
  },
  {
   "cell_type": "markdown",
   "id": "36f72062",
   "metadata": {},
   "source": [
    "10. Write a program to create a dictionary with student names and marks, and print names of \n",
    "students who scored more than 80. "
   ]
  },
  {
   "cell_type": "code",
   "execution_count": 6,
   "id": "a065e7d3",
   "metadata": {},
   "outputs": [
    {
     "name": "stdout",
     "output_type": "stream",
     "text": [
      "Student names who score mark more than 80 : \n",
      "Deva = 90\n"
     ]
    }
   ],
   "source": [
    "student_details = {}\n",
    "n = int(input(\"Enter the number of students : \"))\n",
    "for _ in range(n):\n",
    "    name = input(\"Enter the student name : \")\n",
    "    marks = int(input(f\"Enter {name.capitalize()}'s mark :\"))\n",
    "    student_details[name] = marks\n",
    "print(f\"Student names who score mark more than 80 : \")\n",
    "for key,value in student_details.items():\n",
    "    if value > 80 :\n",
    "        print(f\"{key.capitalize()} = {value}\")"
   ]
  }
 ],
 "metadata": {
  "kernelspec": {
   "display_name": "Python 3",
   "language": "python",
   "name": "python3"
  },
  "language_info": {
   "codemirror_mode": {
    "name": "ipython",
    "version": 3
   },
   "file_extension": ".py",
   "mimetype": "text/x-python",
   "name": "python",
   "nbconvert_exporter": "python",
   "pygments_lexer": "ipython3",
   "version": "3.11.0"
  }
 },
 "nbformat": 4,
 "nbformat_minor": 5
}
