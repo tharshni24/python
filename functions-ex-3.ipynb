{
 "cells": [
  {
   "cell_type": "markdown",
   "id": "069053ec",
   "metadata": {},
   "source": [
    "1. Movie Ticket Pricing\n",
    "You're writing a function to calculate movie ticket prices based on age.\t\n",
    "Kids under 12: $5\n",
    "Seniors (60+): $6\n",
    "Everyone else: $10\n",
    "Question:\n",
    " Write a function calculate_ticket_price(age) that returns the correct ticket price.\n",
    "Sample Input:\n",
    "calculate_ticket_price(8)      # Output: 5  \n",
    "calculate_ticket_price(30)     # Output: 10  \n",
    "calculate_ticket_price(65)     # Output: 6\n"
   ]
  },
  {
   "cell_type": "code",
   "execution_count": null,
   "id": "ce5fdf92",
   "metadata": {},
   "outputs": [
    {
     "name": "stdout",
     "output_type": "stream",
     "text": [
      "The ticket price for age 30 is $10\n",
      "5\n",
      "10\n",
      "6\n"
     ]
    }
   ],
   "source": [
    "def calculate_ticket_price(age):\n",
    "    if age < 12:\n",
    "        return 5\n",
    "    elif age >= 60:\n",
    "        return 6\n",
    "    else:\n",
    "        return 10\n",
    "age = int(input(\"Enter the age : \"))\n",
    "print(f\"The ticket price for age {age} is ${calculate_ticket_price(age)}\")   "
   ]
  },
  {
   "cell_type": "markdown",
   "id": "9931c12d",
   "metadata": {},
   "source": [
    "2.You’re building a weather app and need a function to convert temperatures from Celsius to Fahrenheit\n",
    "Question:\n",
    " Write a function celsius_to_fahrenheit(celsius) that returns the Fahrenheit equivalent.\n",
    "Sample Input:\n",
    "celsius_to_fahrenheit(0)       # Output: 32.0  \n",
    "celsius_to_fahrenheit(37)      # Output: 98.6\n"
   ]
  },
  {
   "cell_type": "code",
   "execution_count": null,
   "id": "100c5954",
   "metadata": {},
   "outputs": [
    {
     "name": "stdout",
     "output_type": "stream",
     "text": [
      "0.0 celsius = 32.0 fahrenheit\n",
      "32.0\n",
      "98.6\n"
     ]
    }
   ],
   "source": [
    "def celsius_to_fahrenheit(celsius):\n",
    "    fahrenheit = (celsius * 9/5) + 32\n",
    "    return fahrenheit\n",
    "celsius = float(input(\"Enter the celsius : \"))\n",
    "print(f\"{celsius} celsius = {celsius_to_fahrenheit(celsius)} fahrenheit\") \n"
   ]
  },
  {
   "cell_type": "markdown",
   "id": "c5fe4af6",
   "metadata": {},
   "source": [
    "3.You're creating a grading system. Given a score (0–100), return a letter grade:\t\n",
    "A: 90+\t\n",
    "B: 80–89\t\n",
    "C: 70–79\n",
    "D: 60–69\n",
    "F: below 60\n",
    "Question:\n",
    " Write a function get_grade(score) that returns the letter grade.\n",
    "Sample Input:\n",
    "get_grade(85)        # Output: \"B\"  \n",
    "get_grade(59)        # Output: \"F\n"
   ]
  },
  {
   "cell_type": "code",
   "execution_count": null,
   "id": "2e14449f",
   "metadata": {},
   "outputs": [
    {
     "name": "stdout",
     "output_type": "stream",
     "text": [
      "the grade for 85 mark is B\n",
      "B\n",
      "F\n"
     ]
    }
   ],
   "source": [
    "def get_grade(score):\n",
    "    if score >= 90:\n",
    "        return \"A\"\n",
    "    elif score >= 80:\n",
    "        return \"B\"\n",
    "    elif score >= 70:\n",
    "        return \"C\"\n",
    "    elif score >= 60:\n",
    "        return \"D\"\n",
    "    else:\n",
    "        return \"F\"\n",
    "score = int(input(\"Enter the marks : \"))\n",
    "print(f\"the grade for {score} mark is {get_grade(score)}\")   \n"
   ]
  },
  {
   "cell_type": "markdown",
   "id": "1738b9c0",
   "metadata": {},
   "source": [
    "4.In a text editing app, users want a function that takes a sentence and reverses each word, keeping the word order the same.\n",
    "Question:\n",
    "\t Write a function reverse_words(sentence) that reverses the characters of each word.\n",
    "Sample Input:\n",
    "reverse_words(\"hello world\")    # Output: \"olleh dlrow\"  \n",
    "reverse_words(\"python is fun\")  # Output: \"nohtyp si nuf\"\n"
   ]
  },
  {
   "cell_type": "code",
   "execution_count": null,
   "id": "4f00b706",
   "metadata": {},
   "outputs": [
    {
     "name": "stdout",
     "output_type": "stream",
     "text": [
      "The reverse of the Sentence coimbatore is best is erotabmioc si tseb\n",
      "olleh dlrow\n",
      "nohtyp si nuf\n"
     ]
    }
   ],
   "source": [
    "def reverse_words(sentence):\n",
    "    words = sentence.split()          \n",
    "    reversed_words = [i[::-1] for i in words]  \n",
    "    return ' '.join(reversed_words)    \n",
    "sentence = input(\"Enter a Sentence : \")\n",
    "print(f\"The reverse of the Sentence {sentence} is {reverse_words(sentence)}\") \n"
   ]
  },
  {
   "cell_type": "markdown",
   "id": "477676ae",
   "metadata": {},
   "source": [
    "5.Shipping Cost Calculator :A  company charges shipping based on weight:\n",
    "Up to 2kg: $5\n",
    "2–5kg: $10\n",
    "5kg and above: $15\n",
    "Question:\n",
    "Write a function calculate_shipping(weight) that returns the shipping cost.\n",
    "Sample Input:\n",
    "calculate_shipping(1.5)     # Output: 5  \n",
    "calculate_shipping(3.2)     # Output: 10  \n",
    "calculate_shipping(7.0)     # Output: 15\n"
   ]
  },
  {
   "cell_type": "code",
   "execution_count": 11,
   "id": "708c796c",
   "metadata": {},
   "outputs": [
    {
     "name": "stdout",
     "output_type": "stream",
     "text": [
      "The shipping cost for 3.6kg is 10\n"
     ]
    }
   ],
   "source": [
    "def calculate_shipping(weight):\n",
    "    if weight <= 2:\n",
    "        return 5\n",
    "    elif weight <= 5:\n",
    "        return 10\n",
    "    else:\n",
    "        return 15\n",
    "weight = float(input(\"Enter the weight to calculate : \"))\n",
    "print(f\"The shipping cost for {weight}kg is {calculate_shipping(weight)}\")\n",
    "   \n"
   ]
  },
  {
   "cell_type": "markdown",
   "id": "6d60660d",
   "metadata": {},
   "source": [
    "6. Password Strength Checker\n",
    "Scenario: You're building a signup form. The password must be at least 8 characters long and contain at least one uppercase letter, one lowercase letter, and one digit.\n",
    "Question:\n",
    "Write a function is_strong_password(password) that returns True if the password is strong, otherwise False.\n",
    "Sample Input:\n",
    "is_strong_password(\"Password123\")     # Output: True\n"
   ]
  },
  {
   "cell_type": "code",
   "execution_count": 13,
   "id": "33b170f4",
   "metadata": {},
   "outputs": [
    {
     "name": "stdout",
     "output_type": "stream",
     "text": [
      "Return TRUE if valid or return false\n",
      "KPRiet@12345 is very strong \n",
      "True\n"
     ]
    }
   ],
   "source": [
    "def is_strong_password(password) :\n",
    "    if len(password) < 8 :\n",
    "        return False\n",
    "    upper = False\n",
    "    lower = False\n",
    "    digit = False\n",
    "    for i in password:\n",
    "        if i.isupper():\n",
    "            upper = True\n",
    "        elif i.islower():\n",
    "            lower = True\n",
    "        elif i.isdigit():\n",
    "            digit = True\n",
    "    \n",
    "    return upper and lower and digit\n",
    "\n",
    "password = input(\"Enter your password to check validity : \")\n",
    "print(\"Return TRUE if valid or return false\")\n",
    "if is_strong_password(password):\n",
    "    print(f\"{password} is very strong \")\n",
    "print(is_strong_password(password))\n",
    "        "
   ]
  }
 ],
 "metadata": {
  "kernelspec": {
   "display_name": "Python 3",
   "language": "python",
   "name": "python3"
  },
  "language_info": {
   "codemirror_mode": {
    "name": "ipython",
    "version": 3
   },
   "file_extension": ".py",
   "mimetype": "text/x-python",
   "name": "python",
   "nbconvert_exporter": "python",
   "pygments_lexer": "ipython3",
   "version": "3.13.3"
  }
 },
 "nbformat": 4,
 "nbformat_minor": 5
}
