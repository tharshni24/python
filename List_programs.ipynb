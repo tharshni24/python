{
 "cells": [
  {
   "cell_type": "markdown",
   "id": "f29e5d65-955f-482a-9c6d-737d0f7537f7",
   "metadata": {},
   "source": [
    "#### Write a Python program to create a list of numbers from 1-50 that are either divisible by 3 or divisible by 6 "
   ]
  },
  {
   "cell_type": "code",
   "execution_count": 4,
   "id": "42986d68-e826-434d-8870-2c58405bf202",
   "metadata": {},
   "outputs": [
    {
     "name": "stdout",
     "output_type": "stream",
     "text": [
      "Numbers divisible by 3 or 6 from 1 to 50:  [3, 6, 9, 12, 15, 18, 21, 24, 27, 30, 33, 36, 39, 42, 45, 48]\n"
     ]
    }
   ],
   "source": [
    "list = []\n",
    "for i in range(1,51):\n",
    "    if i%3==0 or i%6==0 :\n",
    "        list.append(i)\n",
    "print(\"Numbers divisible by 3 or 6 from 1 to 50: \",list)"
   ]
  },
  {
   "cell_type": "markdown",
   "id": "a33a3263",
   "metadata": {},
   "source": [
    "#### Write a Python program that reads “n” number of integers from the user and generates a separate list containing even and odd numbers. (Use List Comprehension)"
   ]
  },
  {
   "cell_type": "code",
   "execution_count": 6,
   "id": "3fe58fc1",
   "metadata": {},
   "outputs": [
    {
     "name": "stdout",
     "output_type": "stream",
     "text": [
      "values are : [12, 36, 55, 89]\n",
      "the even numbers are :  [12, 36]\n",
      "the odd numbers are :  [55, 89]\n"
     ]
    }
   ],
   "source": [
    "n = int(input(\"enter number of elements in the list : \"))\n",
    "list = []\n",
    "for i in range(0,n):\n",
    "    i = int(input())\n",
    "    list.append(i)\n",
    "print(\"values are :\",list)\n",
    "even = [i for i in list if(i%2==0)]\n",
    "odd = [i for i in list if(i%2!=0)]\n",
    "print(\"the even numbers are : \",even)\n",
    "print(\"the odd numbers are : \",odd)"
   ]
  },
  {
   "cell_type": "code",
   "execution_count": null,
   "id": "b6bcaec3",
   "metadata": {},
   "outputs": [],
   "source": [
    "n = int(input(\"enter number of elements in the list : \"))\n",
    "list = []\n",
    "odd = []\n",
    "even = []\n",
    "for i in range(0,n):\n",
    "    i = int(input())\n",
    "    list.append(i)\n",
    "    if i%2==0:\n",
    "        even.append(i)\n",
    "    else :\n",
    "        odd.append(i)\n",
    "print(\"the given list is \",list)\n",
    "print(\"even numbers are : \",even)\n",
    "print(\"odd numbers are : \",odd)\n"
   ]
  },
  {
   "cell_type": "markdown",
   "id": "7d43a502",
   "metadata": {},
   "source": [
    "#### The python program should read the list of 5 numbers, and generate the new list which contains the factorial of each number in the given list. \n",
    "\n",
    "Sample Input\n",
    "\n",
    "[2, 4, 8, 7, 5]\n",
    "\n",
    "Sample Output\n",
    "\n",
    "[2, 24, 40320, 5040, 120]\n"
   ]
  },
  {
   "cell_type": "code",
   "execution_count": 7,
   "id": "6e82db08",
   "metadata": {},
   "outputs": [
    {
     "name": "stdout",
     "output_type": "stream",
     "text": [
      "enter 5 numbers : \n",
      "the 5 numbers are :  [2, 4, 8, 7, 5]\n",
      "the factorial of the given numbers are :  [2, 24, 40320, 5040, 120]\n"
     ]
    }
   ],
   "source": [
    "def fact(n):\n",
    "    if n==0 or n==1:\n",
    "        return 1\n",
    "    else :\n",
    "        return n*fact(n-1)\n",
    "print(\"enter 5 numbers : \")\n",
    "list = [int(input()) for i in range(0,n)]\n",
    "listf = []\n",
    "for i in list :\n",
    "    a = fact(i)\n",
    "    listf.append(a)\n",
    "print(\"the 5 numbers are : \",list)\n",
    "print(\"the factorial of the given numbers are : \",listf)\n",
    "\n"
   ]
  },
  {
   "cell_type": "markdown",
   "id": "75a00f56",
   "metadata": {},
   "source": [
    "#### Write a python program that reads integers from the user and stores them in a list. Your program should continue reading values until the user enters 0. Then it should display all of the values entered by the user (except for the 0) in ascending order (The list itself to be sorted)."
   ]
  },
  {
   "cell_type": "code",
   "execution_count": 1,
   "id": "720ebc62",
   "metadata": {},
   "outputs": [
    {
     "name": "stdout",
     "output_type": "stream",
     "text": [
      "values :  [25, 89, 63, 6, 4, 58, 77, 1, 2, 5, 88, 44, 36]\n",
      "sorted values :  [1, 2, 4, 5, 6, 25, 36, 44, 58, 63, 77, 88, 89]\n"
     ]
    }
   ],
   "source": [
    "list = []\n",
    "while True :\n",
    "    n = int(input(\"enter number : \"))\n",
    "    if n == 0 :\n",
    "        break\n",
    "    else :\n",
    "        list.append(n)\n",
    "print(\"values : \",list)\n",
    "print(\"sorted values : \",sorted(list))"
   ]
  },
  {
   "cell_type": "markdown",
   "id": "2234d270",
   "metadata": {},
   "source": [
    "#### Write a python program that reads the string, encode each character in a string using ascii values and store the ascii value in the list. The program reads the strings from the user, and stores the individual characters ascii value to the list\n",
    "\n",
    "Sample Input\n",
    "\n",
    "Enter the string : Science\n",
    "\n",
    "Sample Output\n",
    "\n",
    "Encode the List - [83, 99, 105, 101, 110, 99, 101]\n",
    "\n",
    "Note: Use ord() function\n"
   ]
  },
  {
   "cell_type": "code",
   "execution_count": 2,
   "id": "6d329995",
   "metadata": {},
   "outputs": [
    {
     "name": "stdout",
     "output_type": "stream",
     "text": [
      "the string is :  Life is very short\n",
      "the encode list :  [76, 105, 102, 101, 32, 105, 115, 32, 118, 101, 114, 121, 32, 115, 104, 111, 114, 116]\n"
     ]
    }
   ],
   "source": [
    "str = input(\"enter the string : \")\n",
    "en = []\n",
    "for i in str :\n",
    "    en.append(ord(i))\n",
    "print(\"the string is : \",str)\n",
    "print(\"the encode list : \",en)"
   ]
  },
  {
   "cell_type": "markdown",
   "id": "81d65617",
   "metadata": {},
   "source": [
    "#### Write a python program which reads “n” words from the user, store it in the list and display the length of each word and display the longest word in the list."
   ]
  },
  {
   "cell_type": "code",
   "execution_count": null,
   "id": "6370d7a6",
   "metadata": {},
   "outputs": [
    {
     "name": "stdout",
     "output_type": "stream",
     "text": [
      "the length of each word in the list :  [8, 5, 3]\n",
      "the longest word in the list is : elephant\n"
     ]
    }
   ],
   "source": [
    "n = int(input(\"enter the number of words :\"))\n",
    "list = []\n",
    "worldlen = []\n",
    "for i in range(0,n):\n",
    "    i = input(\"enter the word\")\n",
    "    list.append(i)\n",
    "    worldlen.append(len(i))\n",
    "print(\"the length of each word in the list : \",worldlen)\n",
    "print(\"the longest word in the list is :\",list[worldlen.index(max(worldlen))])\n",
    "\n"
   ]
  },
  {
   "cell_type": "markdown",
   "id": "43116534",
   "metadata": {},
   "source": [
    "#### A program should read “n” positive integers from the user and append it to the list, and if the list contains prime numbers return “True” and number of prime numbers, else “False”. (Use function to find the number is prime or not)"
   ]
  },
  {
   "cell_type": "code",
   "execution_count": 13,
   "id": "c23107fb",
   "metadata": {},
   "outputs": [
    {
     "name": "stdout",
     "output_type": "stream",
     "text": [
      "the numbers are :  [11, 12, 13]\n",
      "TRUE\n",
      "the total numbers of prime numbers are :  2\n"
     ]
    }
   ],
   "source": [
    "def prime(n):\n",
    "    if n==0:\n",
    "        print(\"Zero is neither a prime nor a composite number\")\n",
    "        return False\n",
    "    if n==1:\n",
    "        return False\n",
    "    elif n>1:\n",
    "        m = (n//2)+1\n",
    "        for i in range(2,m):\n",
    "            if n%i==0:\n",
    "                return False\n",
    "        return True\n",
    "\n",
    "result = 0\n",
    "prime_numbers = 0\n",
    "n = int(input(\"enter the number of integers in the list : \"))\n",
    "numbers = []\n",
    "for i in range(0,n):\n",
    "    i = int(input(\"enter the number : \"))\n",
    "    numbers.append(i)\n",
    "for i in numbers:\n",
    "    a = prime(i)\n",
    "    if a == True :\n",
    "        result += 1\n",
    "        prime_numbers += 1\n",
    "\n",
    "print(\"the numbers are : \",numbers)\n",
    "\n",
    "if result > 0 :\n",
    "    print(\"TRUE\")\n",
    "else :\n",
    "    print(\"False\")\n",
    "\n",
    "print(\"the total numbers of prime numbers are : \",prime_numbers)\n",
    "\n"
   ]
  },
  {
   "cell_type": "markdown",
   "id": "b05da938",
   "metadata": {},
   "source": [
    "#### Write a python program that removes duplicates from the given list and generate the new list without duplicates."
   ]
  },
  {
   "cell_type": "code",
   "execution_count": null,
   "id": "bf9a0d21",
   "metadata": {},
   "outputs": [],
   "source": [
    "n = int(input(\"enter the number of integers in the list :\"))\n",
    "numbers = []\n",
    "for i in range(0,n):\n",
    "    i = int(input(\"enter : \"))\n",
    "    numbers.append(i)\n",
    "print(\"the user enter numbers are : \",numbers)\n",
    "print(\"the list after removing the duplicates : \",list(dict.fromkeys(numbers)))"
   ]
  },
  {
   "cell_type": "markdown",
   "id": "c1cfbeab",
   "metadata": {},
   "source": [
    "#### Write a python program to remove even numbers from the given list"
   ]
  },
  {
   "cell_type": "code",
   "execution_count": null,
   "id": "5c74f528",
   "metadata": {},
   "outputs": [],
   "source": [
    "list = [2,5,6,7,8,9,10,22,34,555,67,23]\n",
    "for i in list :\n",
    "    if i%2==0 :\n",
    "        list.remove(i)\n",
    "print(\"after removing even numbers : \",list)"
   ]
  },
  {
   "cell_type": "code",
   "execution_count": null,
   "id": "48028949",
   "metadata": {},
   "outputs": [],
   "source": [
    "n = int(input(\"enter the number of integers in the list :\"))\n",
    "numbers = []\n",
    "odd = []\n",
    "for i in range(0,n):\n",
    "    i = int(input(\"enter number : \"))\n",
    "    numbers.append(i)\n",
    "    if i%2!=0:\n",
    "        odd.append(i)\n",
    "print(\"the original list : \",numbers)\n",
    "print(\"the list after removing even numbers : \",odd)"
   ]
  },
  {
   "cell_type": "markdown",
   "id": "6c818a08",
   "metadata": {},
   "source": [
    "#### Consider the following list which contains the month with year  \n",
    "\n",
    "years = [\"January 2023\", “February 2024”, March 2023”, \"May 2025\", \"April 2023\", \"August 2024\", \"September 2025\", \"December 2023\"]\n",
    "\n",
    "If you have noticed, for some months, the year was wrongly mentioned instead of 2023. Write a Python program to change the month to 2023.\n"
   ]
  },
  {
   "cell_type": "code",
   "execution_count": null,
   "id": "45b5b447",
   "metadata": {},
   "outputs": [],
   "source": [
    "years = [\"january 2023\",\"feb 2024\",\"march 2023\",\"may 2025\",\"april 2023\",\"aug 2024\",\"sep 2025\",\"dec 2023\"]\n",
    "ans = []\n",
    "for k in years:\n",
    "    m = k.split()[0]\n",
    "    ans.append(f\"{m} 2023\")\n",
    "print(\"the corrected years : \",ans)\n"
   ]
  }
 ],
 "metadata": {
  "kernelspec": {
   "display_name": "Python 3",
   "language": "python",
   "name": "python3"
  },
  "language_info": {
   "codemirror_mode": {
    "name": "ipython",
    "version": 3
   },
   "file_extension": ".py",
   "mimetype": "text/x-python",
   "name": "python",
   "nbconvert_exporter": "python",
   "pygments_lexer": "ipython3",
   "version": "3.13.2"
  }
 },
 "nbformat": 4,
 "nbformat_minor": 5
}
